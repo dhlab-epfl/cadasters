{
 "cells": [
  {
   "cell_type": "code",
   "execution_count": null,
   "metadata": {
    "collapsed": false
   },
   "outputs": [],
   "source": [
    "from segment_cadaster import segment_cadaster"
   ]
  },
  {
   "cell_type": "code",
   "execution_count": null,
   "metadata": {
    "collapsed": false
   },
   "outputs": [],
   "source": [
    "# Args\n",
    "# ----\n",
    "filename_cadaster_img = 'data/images_cadasters/cadaster_sample1.jpg'\n",
    "output_path = 'outputs/myfolder'\n",
    "\n",
    "# Parameters SLIC (see also : http://scikit-image.org/docs/dev/api/skimage.segmentation.html#skimage.segmentation.slic)\n",
    "params_slic = {\n",
    "                'mode': 'RGB',  # 'RGB' or 'L' the channel(s) to use\n",
    "                'percent': 0.01,  # Related to the number of superpixels to form. \n",
    "                                # Percent of the total number of pixels in the image.\n",
    "                                # Choosing a high percentage will lenghten the process, \n",
    "                                # and a low number will give less accurate segmentation\n",
    "                'numCompact': 25,  # Compactess of the superpixels (value between 15 and 25 seems to work fine) \n",
    "                'sigma': 2  # width of gaussian kernel for smoothing\n",
    "              }\n",
    "\n",
    "# Parameters merging\n",
    "params_merge = {\n",
    "                'similarity_method': 'cie2000',  # 'cie2000', 'coloredge', 'edges'\n",
    "                                                # Method to measure similarity between regions. \n",
    "                                                # Choose between color based (cie2000), edge base (edge), or mix both (coloredge)\n",
    "                'stop_criterion': 0.3  # Maximum intraregion dissimilarity variation. \n",
    "                                        # A low value will not merge much and high value will merge all superpixels\n",
    "                                        # Note that the smaller the value, the longer the processs\n",
    "               }"
   ]
  },
  {
   "cell_type": "code",
   "execution_count": null,
   "metadata": {
    "collapsed": false
   },
   "outputs": [],
   "source": [
    "segment_cadaster(filename_cadaster_img, output_path, params_slic, params_merge, show_plots=True)"
   ]
  }
 ],
 "metadata": {
  "anaconda-cloud": {},
  "kernelspec": {
   "display_name": "Python [default]",
   "language": "python",
   "name": "python3"
  },
  "language_info": {
   "codemirror_mode": {
    "name": "ipython",
    "version": 3
   },
   "file_extension": ".py",
   "mimetype": "text/x-python",
   "name": "python",
   "nbconvert_exporter": "python",
   "pygments_lexer": "ipython3",
   "version": "3.5.2"
  }
 },
 "nbformat": 4,
 "nbformat_minor": 1
}
