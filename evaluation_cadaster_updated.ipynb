***REMOVED***
***REMOVED***
  ***REMOVED***
***REMOVED***
   "execution_count": 1,
   "metadata": ***REMOVED***
    "collapsed": false
 ***REMOVED***
***REMOVED***
***REMOVED***
    "***REMOVED***\n",
    "***REMOVED***\n",
***REMOVED***
    "import pandas as pd\n",
    "import shapely\n",
    "import numpy as np\n",
    "import Levenshtein"
***REMOVED***
***REMOVED***
  ***REMOVED***
***REMOVED***
***REMOVED***
   "metadata": ***REMOVED***
***REMOVED***
 ***REMOVED***
***REMOVED***
***REMOVED***
    "dir_processed_geojson_files = './data/geojson/filtered/'\n",
    "dir_corrected_geojson_files = './data/geojson/corrected_manually/filter_multipolygon/'"
***REMOVED***
***REMOVED***
  ***REMOVED***
***REMOVED***
***REMOVED***
   "metadata": ***REMOVED***
***REMOVED***
 ***REMOVED***
***REMOVED***
***REMOVED***]
***REMOVED***
  ***REMOVED***
***REMOVED***
   "execution_count": 19,
   "metadata": ***REMOVED***
    "collapsed": false
 ***REMOVED***
***REMOVED***
***REMOVED***
    "df_original = gpd.read_file('./data/geojson/filtered/parcelsFg10_filt.geojson', )\n",
    "df_original = df_original.set_index('uuid')"
***REMOVED***
***REMOVED***
  ***REMOVED***
***REMOVED***
   "execution_count": 18,
   "metadata": ***REMOVED***
    "collapsed": false
 ***REMOVED***
***REMOVED***
***REMOVED***
    "df_corrected = gpd.read_file('./data/geojson/corrected_manually/filter_multipolygon/planche_10c_filt.geojson')\n",
    "# TODO If there are NA values, count them as false negative (missed polygons)\n",
    "df_corrected = df_corrected.set_index('uuid')"
***REMOVED***
***REMOVED***
  ***REMOVED***
   "cell_type": "raw",
   "metadata": ***REMOVED******REMOVED***,
***REMOVED***
    "df_original[:5]"
***REMOVED***
***REMOVED***
  ***REMOVED***
   "cell_type": "raw",
   "metadata": ***REMOVED******REMOVED***,
***REMOVED***
    "df_corrected[:5]"
***REMOVED***
***REMOVED***
  ***REMOVED***
***REMOVED***
   "execution_count": 20,
   "metadata": ***REMOVED***
    "collapsed": false
 ***REMOVED***
***REMOVED***
***REMOVED***
    "df_merged = pd.merge(df_original, df_corrected, how='outer', right_index=True, left_index=True, suffixes=('_original', '_corrected'))\n",
    "df_merged = df_merged.drop(['ID0', 'ID_text'], axis=1)"
***REMOVED***
***REMOVED***
  ***REMOVED***
***REMOVED***
***REMOVED***
   "metadata": ***REMOVED***
    "collapsed": false
 ***REMOVED***
***REMOVED***
    ***REMOVED***
     "data": ***REMOVED***
***REMOVED***
       "1788"
   ***REMOVED***
   ***REMOVED***
  ***REMOVED***
     "metadata": ***REMOVED******REMOVED***,
***REMOVED***
***REMOVED***
***REMOVED***,
***REMOVED***
    "len(df_merged)"
***REMOVED***
***REMOVED***
  ***REMOVED***
***REMOVED***
   "metadata": ***REMOVED******REMOVED***,
***REMOVED***
    "### Polygon evaluation"
***REMOVED***
***REMOVED***
  ***REMOVED***
***REMOVED***
   "execution_count": 34,
   "metadata": ***REMOVED***
    "collapsed": false
 ***REMOVED***
***REMOVED***
    ***REMOVED***
***REMOVED***
***REMOVED***
***REMOVED***
      "* Total parcels : 1675\n",
      "* Mean IOU: 0.977423209766819\n",
      "* Accuracy @ IOU>0.8: 0.9645345155161494\n",
      "----\n",
      "* Recall (IOU > 0) : 0.4537313432835821\n",
      "* Precision (IOU > 0) : 0.43059490084985835\n"
  ***REMOVED***
***REMOVED***
***REMOVED***,
***REMOVED***
    "false_negatives_detection = 0 # The ones that are missed\n",
    "false_positives_detection = 0\n",
    "true_positives_detection = 0\n",
    "total_correct = len(df_corrected)\n",
    "total_found = len(df_original)\n",
    "list_IOU = list()\n",
***REMOVED***
    "for index, row in df_merged.iterrows():\n",
    "    if isinstance(row.geometry_original, shapely.geometry.Polygon):\n",
    "        if isinstance(row.geometry_corrected, shapely.geometry.Polygon):\n",
    "            try:\n",
    "                true_positives_detection += 1\n",
***REMOVED***
    "                # Compute IOU\n",
    "                list_IOU.append(\n",
    "                    row.geometry_original.intersection(row.geometry_corrected).area/\n",
    "                    row.geometry_original.union(row.geometry_corrected).area)\n",
    "            except:\n",
    "                false_negatives_detection += 1\n",
    "        else:\n",
    "            false_positives_detection += 1\n",
    "            # Should we add +0 to the IOU ?\n",
    "            # list_IOU.append(0)\n",
    "    else:\n",
    "        false_negatives_detection += 1\n",
    "        # Should we add +0 to the IOU ?\n",
    "        # list_IOU.append(0)\n",
    "        \n",
    "print('* Total parcels : ***REMOVED******REMOVED***'.format(total_correct))\n",
    "print('* Mean IOU: ***REMOVED******REMOVED***'.format(np.mean(list_IOU)))\n",
    "print('* Accuracy @ IOU>0.8: ***REMOVED******REMOVED***'.format(np.sum(np.array(list_IOU) > 0.8)/len(list_IOU)))\n",
    "print('----')\n",
    "print('* Recall (IOU > 0) : ***REMOVED******REMOVED***'.format(true_positives/total_correct))\n",
    "print('* Precision (IOU > 0) : ***REMOVED******REMOVED***'.format(true_positives/total_found))"
***REMOVED***
***REMOVED***
  ***REMOVED***
***REMOVED***
***REMOVED***
   "metadata": ***REMOVED***
***REMOVED***
 ***REMOVED***
***REMOVED***
***REMOVED***]
***REMOVED***
  ***REMOVED***
***REMOVED***
***REMOVED***
   "metadata": ***REMOVED***
***REMOVED***
 ***REMOVED***
***REMOVED***
***REMOVED***]
***REMOVED***
  ***REMOVED***
***REMOVED***
***REMOVED***
   "metadata": ***REMOVED***
***REMOVED***
 ***REMOVED***
***REMOVED***
***REMOVED***]
***REMOVED***
  ***REMOVED***
***REMOVED***
***REMOVED***
   "metadata": ***REMOVED***
    "collapsed": false
 ***REMOVED***
***REMOVED***
***REMOVED***]
***REMOVED***
  ***REMOVED***
***REMOVED***
   "metadata": ***REMOVED******REMOVED***,
***REMOVED***
    "### Transcription evaluation"
***REMOVED***
***REMOVED***
  ***REMOVED***
***REMOVED***
   "execution_count": 22,
   "metadata": ***REMOVED***
    "collapsed": false
 ***REMOVED***
***REMOVED***
    ***REMOVED***
***REMOVED***
***REMOVED***
***REMOVED***
      "Total data : 1788\n",
      "Total data without null for original geometry : 1765\n",
      "Total data without null for corrected transcription : 915\n",
      "Total data without null for corrected transcription and polygon corrected (i.e data to be compared) : 887\n"
  ***REMOVED***
***REMOVED***
***REMOVED***,
***REMOVED***
    "print('Total data : ***REMOVED******REMOVED***'.format(len(df_merged)))\n",
    "# NaN in best_transcription_corrected corresponds to false positives -> find it\n",
    "false_positives = sum(df_merged.best_transcription_corrected.astype(str) == 'nan')\n",
***REMOVED***
    "# None in best_transcription_corrected corresponds to correctly predicted empty text\n",
    "true_positives = sum(df_merged.best_transcription_corrected.astype(str) == 'None')\n",
***REMOVED***
    "# False negatives (polygons that where added manually):\n",
    "false_negatives = sum(df_merged.geometry_original.isnull())\n",
***REMOVED***
    "# total_na = sum(df_merged.best_transcription_corrected.isna())\n",
***REMOVED***
    "# Get only non NA values\n",
    "df_merged_notna = df_merged[df_merged.geometry_original.notnull()] # Remove those who have no original geometry\n",
    "print('Total data without null for original geometry : ***REMOVED******REMOVED***'.format(len(df_merged_notna)))\n",
    "df_merged_notna = df_merged_notna[df_merged_notna.best_transcription_corrected.notna()]\n",
    "print('Total data without null for corrected transcription : ***REMOVED******REMOVED***'.format(len(df_merged_notna)))\n",
***REMOVED***
    "# Remove entries that have no polygonal geometry (polygons that have been removed)\n",
    "false_positives += sum(df_merged_notna.geometry_corrected.isnull())\n",
***REMOVED***
    "df_merged_notna = df_merged_notna[df_merged_notna.geometry_corrected.notna()]\n",
    "print('Total data without null for corrected transcription and polygon corrected (i.e data to be compared) : ***REMOVED******REMOVED***'.format(len(df_merged_notna)))"
***REMOVED***
***REMOVED***
  ***REMOVED***
***REMOVED***
   "execution_count": 23,
   "metadata": ***REMOVED***
    "collapsed": false
 ***REMOVED***
***REMOVED***
    ***REMOVED***
     "name": "stderr",
***REMOVED***
***REMOVED***
      "100%|██████████| 887/887 [00:00<00:00, 4757.69it/s]"
  ***REMOVED***
  ***REMOVED***
    ***REMOVED***
***REMOVED***
***REMOVED***
***REMOVED***
      "CER : 0.0\n",
      "\n"
  ***REMOVED***
  ***REMOVED***
    ***REMOVED***
     "name": "stderr",
***REMOVED***
***REMOVED***
      "\n"
  ***REMOVED***
***REMOVED***
***REMOVED***,
***REMOVED***
    "distance = 0\n",
    "total_digits = 0\n",
    "correct_transcriptions = 0\n",
    "for index, row in tqdm(df_merged_notna.iterrows(), total=len(df_merged_notna)):\n",
    "    error_digits = Levenshtein.distance(row.best_transcription_original, row.best_transcription_corrected)\n",
    "    distance += error_digits\n",
    "    total_digits += len(row.best_transcription_corrected)\n",
***REMOVED***
    "    if error_digits == 0:\n",
    "        correct_transcriptions += 1\n",
***REMOVED***
    "print('CER : ***REMOVED******REMOVED***'.format(distance/total_digits))\n",
    "print('')"
***REMOVED***
***REMOVED***
  ***REMOVED***
***REMOVED***
   "execution_count": 12,
   "metadata": ***REMOVED***
    "collapsed": false,
***REMOVED***
 ***REMOVED***
***REMOVED***
    ***REMOVED***
     "data": ***REMOVED***
***REMOVED***
       "85"
   ***REMOVED***
   ***REMOVED***
     "execution_count": 12,
     "metadata": ***REMOVED******REMOVED***,
***REMOVED***
***REMOVED***
***REMOVED***,
***REMOVED***
    "correct_transcriptions"
***REMOVED***
***REMOVED***
  ***REMOVED***
***REMOVED***
***REMOVED***
   "metadata": ***REMOVED***
***REMOVED***
 ***REMOVED***
***REMOVED***
***REMOVED***]
***REMOVED***
  ***REMOVED***
***REMOVED***
***REMOVED***
   "metadata": ***REMOVED***
***REMOVED***
 ***REMOVED***
***REMOVED***
***REMOVED***]
***REMOVED***
  ***REMOVED***
***REMOVED***
   "execution_count": 29,
   "metadata": ***REMOVED***
    "collapsed": false
 ***REMOVED***
***REMOVED***
    ***REMOVED***
     "data": ***REMOVED***
***REMOVED***
***REMOVED***
***REMOVED***
       "    .dataframe tbody tr th:only-of-type ***REMOVED***\n",
***REMOVED***
***REMOVED***
***REMOVED***
       "    .dataframe tbody tr th ***REMOVED***\n",
***REMOVED***
***REMOVED***
***REMOVED***
       "    .dataframe thead th ***REMOVED***\n",
***REMOVED***
***REMOVED***
***REMOVED***
***REMOVED***
***REMOVED***
***REMOVED***
***REMOVED***
       "      <th>best_transcription_original</th>\n",
***REMOVED***
***REMOVED***
       "      <th>geometry_original</th>\n",
       "      <th>best_transcription_corrected</th>\n",
       "      <th>geometry_corrected</th>\n",
***REMOVED***
***REMOVED***
***REMOVED***
***REMOVED***
***REMOVED***
***REMOVED***
***REMOVED***
***REMOVED***
***REMOVED***
***REMOVED***
***REMOVED***
***REMOVED***
***REMOVED***
       "      <th>00a2ffcb-d8ec-4ab9-88ad-4f56be8147bc</th>\n",
***REMOVED***
***REMOVED***
***REMOVED***
       "      <td>POLYGON ((2310516.529790816 5035065.076758689,...</td>\n",
***REMOVED***
       "      <td>POLYGON ((2310516.529790816 5035065.076758689,...</td>\n",
***REMOVED***
***REMOVED***
       "      <th>00de7c66-89ba-4e38-a6e3-839ff40a69cc</th>\n",
***REMOVED***
***REMOVED***
***REMOVED***
       "      <td>POLYGON ((2310178.051802094 5035344.901521929,...</td>\n",
***REMOVED***
       "      <td>POLYGON ((2310178.051802094 5035344.901521929,...</td>\n",
***REMOVED***
***REMOVED***
       "      <th>015cdc25-1370-4c20-8921-136700f9b444</th>\n",
***REMOVED***
***REMOVED***
***REMOVED***
       "      <td>POLYGON ((2310557.973997016 5035222.096331075,...</td>\n",
***REMOVED***
       "      <td>POLYGON ((2310557.973997016 5035222.096331075,...</td>\n",
***REMOVED***
***REMOVED***
       "      <th>01a60f18-6b63-4568-bb6b-d7c28b544eef</th>\n",
***REMOVED***
***REMOVED***
***REMOVED***
       "      <td>POLYGON ((2310550.235029765 5034897.874334658,...</td>\n",
***REMOVED***
       "      <td>POLYGON ((2310550.235029765 5034897.874334658,...</td>\n",
***REMOVED***
***REMOVED***
       "      <th>021ed4e9-fa1c-490c-8065-87f6f10b8fdc</th>\n",
***REMOVED***
***REMOVED***
***REMOVED***
       "      <td>POLYGON ((2310527.832756144 5035169.756473613,...</td>\n",
***REMOVED***
       "      <td>POLYGON ((2310527.832756144 5035169.756473613,...</td>\n",
***REMOVED***
***REMOVED***
       "      <th>0241a33b-027a-480f-ba28-3f4bd26f9473</th>\n",
***REMOVED***
***REMOVED***
***REMOVED***
       "      <td>POLYGON ((2310380.792378371 5035410.78457208, ...</td>\n",
***REMOVED***
***REMOVED***
***REMOVED***
***REMOVED***
       "      <th>0241a7a6-1696-46fb-a88a-5ccd31530ab4</th>\n",
***REMOVED***
***REMOVED***
***REMOVED***
       "      <td>POLYGON ((2310192.205965883 5035008.256446503,...</td>\n",
***REMOVED***
       "      <td>POLYGON ((2310192.205965883 5035008.256446503,...</td>\n",
***REMOVED***
***REMOVED***
       "      <th>02872db5-e290-4e31-a6b5-255dec0df730</th>\n",
***REMOVED***
***REMOVED***
***REMOVED***
       "      <td>POLYGON ((2310607.258998984 5035334.107699184,...</td>\n",
***REMOVED***
       "      <td>POLYGON ((2310607.258998984 5035334.107699184,...</td>\n",
***REMOVED***
***REMOVED***
       "      <th>029251f0-7051-4525-8d75-75fd528a0658</th>\n",
***REMOVED***
***REMOVED***
***REMOVED***
       "      <td>POLYGON ((2310709.087515447 5035222.80913069, ...</td>\n",
***REMOVED***
       "      <td>POLYGON ((2310709.087515447 5035222.80913069, ...</td>\n",
***REMOVED***
***REMOVED***
       "      <th>033b3d3f-c65b-43bb-9f1a-9c55235af299</th>\n",
***REMOVED***
***REMOVED***
***REMOVED***
       "      <td>POLYGON ((2310640.556923868 5035411.395543179,...</td>\n",
***REMOVED***
       "      <td>POLYGON ((2310640.556923868 5035411.395543179,...</td>\n",
***REMOVED***
***REMOVED***
       "      <th>0346196d-48b6-4100-892f-1d3e36962b7b</th>\n",
***REMOVED***
***REMOVED***
***REMOVED***
       "      <td>POLYGON ((2310757.863374833 5035040.943400287,...</td>\n",
***REMOVED***
       "      <td>POLYGON ((2310757.863374833 5035040.943400287,...</td>\n",
***REMOVED***
***REMOVED***
       "      <th>0366e7be-9c71-4dd9-9c7d-f9fe1a2890b0</th>\n",
***REMOVED***
***REMOVED***
***REMOVED***
       "      <td>POLYGON ((2310321.935495856 5035105.909993791,...</td>\n",
***REMOVED***
       "      <td>POLYGON ((2310321.935495856 5035105.909993791,...</td>\n",
***REMOVED***
***REMOVED***
       "      <th>0421aeac-bef1-477a-8bc8-68192a78dcb0</th>\n",
***REMOVED***
***REMOVED***
***REMOVED***
       "      <td>POLYGON ((2310257.681701968 5034940.336826023,...</td>\n",
***REMOVED***
       "      <td>POLYGON ((2310257.681701968 5034940.336826023,...</td>\n",
***REMOVED***
***REMOVED***
       "      <th>0531da9f-081d-44b7-a820-36fbc07b2f9e</th>\n",
***REMOVED***
***REMOVED***
***REMOVED***
       "      <td>POLYGON ((2310548.402116469 5035115.685531371,...</td>\n",
***REMOVED***
       "      <td>POLYGON ((2310548.402116469 5035115.685531371,...</td>\n",
***REMOVED***
***REMOVED***
       "      <th>053a4a12-2061-44cc-ba36-177e66a39f0c</th>\n",
***REMOVED***
***REMOVED***
***REMOVED***
       "      <td>POLYGON ((2310749.920750549 5035386.753042195,...</td>\n",
***REMOVED***
       "      <td>POLYGON ((2310749.920750549 5035386.753042195,...</td>\n",
***REMOVED***
***REMOVED***
       "      <th>05547834-c3c8-4274-b266-96c4ecab8808</th>\n",
***REMOVED***
***REMOVED***
***REMOVED***
       "      <td>POLYGON ((2310585.264039428 5035367.405624066,...</td>\n",
***REMOVED***
       "      <td>POLYGON ((2310585.264039428 5035367.405624066,...</td>\n",
***REMOVED***
***REMOVED***
       "      <th>05b0df23-ffa6-4d2a-a496-fd94656bf51a</th>\n",
***REMOVED***
***REMOVED***
***REMOVED***
       "      <td>POLYGON ((2310385.985632711 5034932.801515804,...</td>\n",
***REMOVED***
       "      <td>POLYGON ((2310385.985632711 5034932.801515804,...</td>\n",
***REMOVED***
***REMOVED***
       "      <th>05f78b3f-0d30-49e7-b7ad-dfb8c506d89d</th>\n",
***REMOVED***
***REMOVED***
***REMOVED***
       "      <td>POLYGON ((2310661.024455676 5035384.105500767,...</td>\n",
***REMOVED***
       "      <td>POLYGON ((2310661.024455676 5035384.105500767,...</td>\n",
***REMOVED***
***REMOVED***
       "      <th>0641e8f8-4781-4709-a2d5-f247b02d6eaf</th>\n",
***REMOVED***
***REMOVED***
***REMOVED***
       "      <td>POLYGON ((2310544.532632843 5035126.581182633,...</td>\n",
***REMOVED***
       "      <td>POLYGON ((2310544.532632843 5035126.581182633,...</td>\n",
***REMOVED***
***REMOVED***
       "      <th>06b525ec-0e09-44da-be12-1c62ae5c9556</th>\n",
***REMOVED***
***REMOVED***
***REMOVED***
       "      <td>POLYGON ((2310282.324202952 5034970.172581346,...</td>\n",
***REMOVED***
       "      <td>POLYGON ((2310282.324202952 5034970.172581346,...</td>\n",
***REMOVED***
***REMOVED***
       "      <th>07109a48-1062-4acc-9847-30962c646632</th>\n",
***REMOVED***
***REMOVED***
***REMOVED***
       "      <td>POLYGON ((2310399.223339851 5035159.879107515,...</td>\n",
***REMOVED***
       "      <td>POLYGON ((2310399.223339851 5035159.879107515,...</td>\n",
***REMOVED***
***REMOVED***
       "      <th>0712c110-d5ef-48ad-a747-b564303ae70f</th>\n",
***REMOVED***
***REMOVED***
***REMOVED***
       "      <td>POLYGON ((2310518.871846694 5034956.018417558,...</td>\n",
***REMOVED***
       "      <td>POLYGON ((2310518.871846694 5034956.018417558,...</td>\n",
***REMOVED***
***REMOVED***
       "      <th>074a5e75-13d4-4ebc-b10b-0ad91dccf746</th>\n",
***REMOVED***
***REMOVED***
***REMOVED***
       "      <td>POLYGON ((2310539.033892954 5035315.269423638,...</td>\n",
***REMOVED***
       "      <td>POLYGON ((2310539.033892954 5035315.269423638,...</td>\n",
***REMOVED***
***REMOVED***
       "      <th>07817f63-e874-4697-a99a-1d74097075bc</th>\n",
***REMOVED***
***REMOVED***
***REMOVED***
       "      <td>POLYGON ((2310392.299000732 5035172.505843557,...</td>\n",
***REMOVED***
       "      <td>POLYGON ((2310392.299000732 5035172.505843557,...</td>\n",
***REMOVED***
***REMOVED***
       "      <th>0788e93d-d689-4c0e-9c89-7cde69848e09</th>\n",
***REMOVED***
***REMOVED***
***REMOVED***
       "      <td>POLYGON ((2310193.937050662 5035001.128450351,...</td>\n",
***REMOVED***
       "      <td>POLYGON ((2310193.937050662 5035001.128450351,...</td>\n",
***REMOVED***
***REMOVED***
       "      <th>07af0737-f336-4d25-8576-8c577bc087cb</th>\n",
***REMOVED***
***REMOVED***
***REMOVED***
       "      <td>POLYGON ((2310670.087193642 5035366.387338902,...</td>\n",
***REMOVED***
       "      <td>POLYGON ((2310670.087193642 5035366.387338902,...</td>\n",
***REMOVED***
***REMOVED***
       "      <th>082caa52-20ce-41ff-82e3-179a7339108f</th>\n",
***REMOVED***
***REMOVED***
***REMOVED***
       "      <td>POLYGON ((2310502.88476961 5034934.736257616, ...</td>\n",
***REMOVED***
       "      <td>POLYGON ((2310502.88476961 5034934.736257616, ...</td>\n",
***REMOVED***
***REMOVED***
       "      <th>084720db-81d2-4f7e-8ed7-74dbe900636a</th>\n",
***REMOVED***
***REMOVED***
***REMOVED***
       "      <td>POLYGON ((2310795.743582956 5035213.746392724,...</td>\n",
***REMOVED***
       "      <td>POLYGON ((2310795.743582956 5035213.746392724,...</td>\n",
***REMOVED***
***REMOVED***
       "      <th>084ec36e-5e24-478e-989d-ec7159ad109e</th>\n",
***REMOVED***
***REMOVED***
***REMOVED***
       "      <td>POLYGON ((2310183.652370499 5035396.834065325,...</td>\n",
***REMOVED***
       "      <td>POLYGON ((2310183.652370499 5035396.834065325,...</td>\n",
***REMOVED***
***REMOVED***
       "      <th>085e0870-d4f4-439a-819b-fbe66eabac7a</th>\n",
***REMOVED***
***REMOVED***
***REMOVED***
       "      <td>POLYGON ((2310407.573278201 5035031.575176773,...</td>\n",
***REMOVED***
       "      <td>POLYGON ((2310407.573278201 5035031.575176773,...</td>\n",
***REMOVED***
***REMOVED***
       "      <th>...</th>\n",
       "      <td>...</td>\n",
       "      <td>...</td>\n",
       "      <td>...</td>\n",
       "      <td>...</td>\n",
       "      <td>...</td>\n",
       "      <td>...</td>\n",
***REMOVED***
***REMOVED***
       "      <th>fbdc89d6-a5f7-49a5-8390-df9f6a750644</th>\n",
***REMOVED***
***REMOVED***
***REMOVED***
       "      <td>POLYGON ((2310811.119688943 5035151.223683616,...</td>\n",
***REMOVED***
       "      <td>POLYGON ((2310811.119688943 5035151.223683616,...</td>\n",
***REMOVED***
***REMOVED***
       "      <th>fbf55270-38df-40c4-92ab-a77d02a8a619</th>\n",
***REMOVED***
***REMOVED***
***REMOVED***
       "      <td>POLYGON ((2310619.47842096 5034939.522197891, ...</td>\n",
***REMOVED***
       "      <td>POLYGON ((2310619.47842096 5034939.522197891, ...</td>\n",
***REMOVED***
***REMOVED***
       "      <th>fc0e8bcc-d652-417e-8474-3e33115aafd3</th>\n",
***REMOVED***
***REMOVED***
***REMOVED***
       "      <td>POLYGON ((2310596.567004756 5035349.17831962, ...</td>\n",
***REMOVED***
       "      <td>POLYGON ((2310596.567004756 5035349.17831962, ...</td>\n",
***REMOVED***
***REMOVED***
       "      <th>fc545f62-a8b2-444f-97b2-76f6655a0827</th>\n",
***REMOVED***
***REMOVED***
***REMOVED***
       "      <td>POLYGON ((2310557.159368885 5035334.820498799,...</td>\n",
***REMOVED***
       "      <td>POLYGON ((2310557.159368885 5035334.820498799,...</td>\n",
***REMOVED***
***REMOVED***
       "      <th>fce63567-71ad-4b24-91d9-4acb3d2c8493</th>\n",
***REMOVED***
***REMOVED***
***REMOVED***
       "      <td>POLYGON ((2310321.731838823 5035053.977450395,...</td>\n",
***REMOVED***
       "      <td>POLYGON ((2310321.731838823 5035053.977450395,...</td>\n",
***REMOVED***
***REMOVED***
       "      <th>fd06fa16-2d79-42e2-9536-477b54e40191</th>\n",
***REMOVED***
***REMOVED***
***REMOVED***
       "      <td>POLYGON ((2310536.28452301 5035114.056275108, ...</td>\n",
***REMOVED***
       "      <td>POLYGON ((2310536.28452301 5035114.056275108, ...</td>\n",
***REMOVED***
***REMOVED***
       "      <th>fd6cf259-c258-4e44-b4d3-f56ea5d4a4d7</th>\n",
***REMOVED***
***REMOVED***
***REMOVED***
       "      <td>POLYGON ((2310404.212937158 5035050.922594901,...</td>\n",
***REMOVED***
       "      <td>POLYGON ((2310404.212937158 5035050.922594901,...</td>\n",
***REMOVED***
***REMOVED***
       "      <th>fe14bd9e-f026-4d86-bfeb-16d7ce6934b5</th>\n",
***REMOVED***
***REMOVED***
***REMOVED***
       "      <td>POLYGON ((2310809.18494713 5035141.142660487, ...</td>\n",
***REMOVED***
       "      <td>POLYGON ((2310809.18494713 5035141.142660487, ...</td>\n",
***REMOVED***
***REMOVED***
       "      <th>fe351c04-3ea1-4fe3-875c-6e4529e21b25</th>\n",
***REMOVED***
***REMOVED***
***REMOVED***
       "      <td>POLYGON ((2310449.526626984 5034897.568849108,...</td>\n",
***REMOVED***
       "      <td>POLYGON ((2310449.526626984 5034897.568849108,...</td>\n",
***REMOVED***
***REMOVED***
       "      <th>fe8eb819-2ef1-486f-8723-98769bf2114f</th>\n",
***REMOVED***
***REMOVED***
***REMOVED***
       "      <td>POLYGON ((2310282.222374436 5035001.73942145, ...</td>\n",
***REMOVED***
       "      <td>POLYGON ((2310282.222374436 5035001.73942145, ...</td>\n",
***REMOVED***
***REMOVED***
       "      <th>feb337f9-bcc2-4e5b-9c00-b7088f0f2295</th>\n",
***REMOVED***
***REMOVED***
***REMOVED***
       "      <td>POLYGON ((2310343.013998764 5035323.415704954,...</td>\n",
***REMOVED***
       "      <td>POLYGON ((2310343.013998764 5035323.415704954,...</td>\n",
***REMOVED***
***REMOVED***
       "      <th>fec49fd2-4966-4941-b5c4-1e7ea99c39db</th>\n",
***REMOVED***
***REMOVED***
***REMOVED***
       "      <td>POLYGON ((2310644.22275046 5035108.863020768, ...</td>\n",
***REMOVED***
       "      <td>POLYGON ((2310644.22275046 5035108.863020768, ...</td>\n",
***REMOVED***
***REMOVED***
       "      <th>fefd4061-d935-4d3e-aaf2-9d52fe41edbc</th>\n",
***REMOVED***
***REMOVED***
***REMOVED***
       "      <td>POLYGON ((2310513.576763839 5034918.545523499,...</td>\n",
***REMOVED***
       "      <td>POLYGON ((2310513.576763839 5034918.545523499,...</td>\n",
***REMOVED***
***REMOVED***
       "      <th>ff114ca3-b96a-4dc2-a5fc-bd91ab74a913</th>\n",
***REMOVED***
***REMOVED***
***REMOVED***
       "      <td>POLYGON ((2310544.023490261 5035329.932730009,...</td>\n",
***REMOVED***
       "      <td>POLYGON ((2310544.023490261 5035329.932730009,...</td>\n",
***REMOVED***
***REMOVED***
       "      <th>NaN</th>\n",
       "      <td>NaN</td>\n",
       "      <td>NaN</td>\n",
       "      <td>NaN</td>\n",
       "      <td>NaN</td>\n",
***REMOVED***
       "      <td>POLYGON ((2310210.509631718 5035255.394937427,...</td>\n",
***REMOVED***
***REMOVED***
       "      <th>NaN</th>\n",
       "      <td>NaN</td>\n",
       "      <td>NaN</td>\n",
       "      <td>NaN</td>\n",
       "      <td>NaN</td>\n",
***REMOVED***
       "      <td>POLYGON ((2310302.629661195 5035167.642776569,...</td>\n",
***REMOVED***
***REMOVED***
       "      <th>NaN</th>\n",
       "      <td>NaN</td>\n",
       "      <td>NaN</td>\n",
       "      <td>NaN</td>\n",
       "      <td>NaN</td>\n",
***REMOVED***
       "      <td>POLYGON ((2310722.047947152 5034908.376174027,...</td>\n",
***REMOVED***
***REMOVED***
       "      <th>NaN</th>\n",
       "      <td>NaN</td>\n",
       "      <td>NaN</td>\n",
       "      <td>NaN</td>\n",
       "      <td>NaN</td>\n",
***REMOVED***
       "      <td>POLYGON ((2310492.772642629 5035012.06265564, ...</td>\n",
***REMOVED***
***REMOVED***
       "      <th>NaN</th>\n",
       "      <td>NaN</td>\n",
       "      <td>NaN</td>\n",
       "      <td>NaN</td>\n",
       "      <td>NaN</td>\n",
***REMOVED***
       "      <td>POLYGON ((2310567.488395544 5035168.213959373,...</td>\n",
***REMOVED***
***REMOVED***
       "      <th>NaN</th>\n",
       "      <td>NaN</td>\n",
       "      <td>NaN</td>\n",
       "      <td>NaN</td>\n",
       "      <td>NaN</td>\n",
***REMOVED***
       "      <td>POLYGON ((2310579.054847682 5035274.796253896,...</td>\n",
***REMOVED***
***REMOVED***
       "      <th>NaN</th>\n",
       "      <td>NaN</td>\n",
       "      <td>NaN</td>\n",
       "      <td>NaN</td>\n",
       "      <td>NaN</td>\n",
***REMOVED***
       "      <td>POLYGON ((2310513.368823198 5035286.698695925,...</td>\n",
***REMOVED***
***REMOVED***
       "      <th>NaN</th>\n",
       "      <td>NaN</td>\n",
       "      <td>NaN</td>\n",
       "      <td>NaN</td>\n",
       "      <td>NaN</td>\n",
***REMOVED***
       "      <td>POLYGON ((2310517.745091581 5035282.213230827,...</td>\n",
***REMOVED***
***REMOVED***
       "      <th>NaN</th>\n",
       "      <td>NaN</td>\n",
       "      <td>NaN</td>\n",
       "      <td>NaN</td>\n",
       "      <td>NaN</td>\n",
***REMOVED***
       "      <td>POLYGON ((2310586.37102765 5035237.282982105, ...</td>\n",
***REMOVED***
***REMOVED***
       "      <th>NaN</th>\n",
       "      <td>NaN</td>\n",
       "      <td>NaN</td>\n",
       "      <td>NaN</td>\n",
       "      <td>NaN</td>\n",
***REMOVED***
       "      <td>POLYGON ((2310572.662639933 5035227.169686262,...</td>\n",
***REMOVED***
***REMOVED***
       "      <th>NaN</th>\n",
       "      <td>NaN</td>\n",
       "      <td>NaN</td>\n",
       "      <td>NaN</td>\n",
       "      <td>NaN</td>\n",
***REMOVED***
       "      <td>POLYGON ((2310512.995034441 5035217.883765537,...</td>\n",
***REMOVED***
***REMOVED***
       "      <th>NaN</th>\n",
       "      <td>NaN</td>\n",
       "      <td>NaN</td>\n",
       "      <td>NaN</td>\n",
       "      <td>NaN</td>\n",
***REMOVED***
       "      <td>POLYGON ((2310486.575729001 5035235.764727756,...</td>\n",
***REMOVED***
***REMOVED***
       "      <th>NaN</th>\n",
       "      <td>NaN</td>\n",
       "      <td>NaN</td>\n",
       "      <td>NaN</td>\n",
       "      <td>NaN</td>\n",
***REMOVED***
       "      <td>POLYGON ((2310490.072123844 5035271.129764145,...</td>\n",
***REMOVED***
***REMOVED***
       "      <th>NaN</th>\n",
       "      <td>NaN</td>\n",
       "      <td>NaN</td>\n",
       "      <td>NaN</td>\n",
       "      <td>NaN</td>\n",
***REMOVED***
       "      <td>POLYGON ((2310781.329164256 5035011.70146648, ...</td>\n",
***REMOVED***
***REMOVED***
       "      <th>NaN</th>\n",
       "      <td>NaN</td>\n",
       "      <td>NaN</td>\n",
       "      <td>NaN</td>\n",
       "      <td>NaN</td>\n",
***REMOVED***
       "      <td>POLYGON ((2310619.545829899 5035379.534803844,...</td>\n",
***REMOVED***
***REMOVED***
       "      <th>NaN</th>\n",
       "      <td>NaN</td>\n",
       "      <td>NaN</td>\n",
       "      <td>NaN</td>\n",
       "      <td>NaN</td>\n",
***REMOVED***
       "      <td>POLYGON ((2310588.017378118 5035277.322477887,...</td>\n",
***REMOVED***
***REMOVED***
***REMOVED***
       "<p>760 rows × 6 columns</p>\n",
***REMOVED***
   ***REMOVED***,
***REMOVED***
       "                                     best_transcription_original  \\\n",
       "uuid                                                               \n",
       "00a2ffcb-d8ec-4ab9-88ad-4f56be8147bc                               \n",
       "00de7c66-89ba-4e38-a6e3-839ff40a69cc                               \n",
       "015cdc25-1370-4c20-8921-136700f9b444                               \n",
       "01a60f18-6b63-4568-bb6b-d7c28b544eef                               \n",
       "021ed4e9-fa1c-490c-8065-87f6f10b8fdc                               \n",
       "0241a33b-027a-480f-ba28-3f4bd26f9473                               \n",
       "0241a7a6-1696-46fb-a88a-5ccd31530ab4                               \n",
       "02872db5-e290-4e31-a6b5-255dec0df730                               \n",
       "029251f0-7051-4525-8d75-75fd528a0658                               \n",
       "033b3d3f-c65b-43bb-9f1a-9c55235af299                               \n",
       "0346196d-48b6-4100-892f-1d3e36962b7b                               \n",
       "0366e7be-9c71-4dd9-9c7d-f9fe1a2890b0                               \n",
       "0421aeac-bef1-477a-8bc8-68192a78dcb0                               \n",
       "0531da9f-081d-44b7-a820-36fbc07b2f9e                               \n",
       "053a4a12-2061-44cc-ba36-177e66a39f0c                               \n",
       "05547834-c3c8-4274-b266-96c4ecab8808                               \n",
       "05b0df23-ffa6-4d2a-a496-fd94656bf51a                               \n",
       "05f78b3f-0d30-49e7-b7ad-dfb8c506d89d                               \n",
       "0641e8f8-4781-4709-a2d5-f247b02d6eaf                               \n",
       "06b525ec-0e09-44da-be12-1c62ae5c9556                               \n",
       "07109a48-1062-4acc-9847-30962c646632                               \n",
       "0712c110-d5ef-48ad-a747-b564303ae70f                               \n",
       "074a5e75-13d4-4ebc-b10b-0ad91dccf746                               \n",
       "07817f63-e874-4697-a99a-1d74097075bc                               \n",
       "0788e93d-d689-4c0e-9c89-7cde69848e09                               \n",
       "07af0737-f336-4d25-8576-8c577bc087cb                               \n",
       "082caa52-20ce-41ff-82e3-179a7339108f                               \n",
       "084720db-81d2-4f7e-8ed7-74dbe900636a                               \n",
       "084ec36e-5e24-478e-989d-ec7159ad109e                               \n",
       "085e0870-d4f4-439a-819b-fbe66eabac7a                               \n",
       "...                                                          ...   \n",
       "fbdc89d6-a5f7-49a5-8390-df9f6a750644                               \n",
       "fbf55270-38df-40c4-92ab-a77d02a8a619                               \n",
       "fc0e8bcc-d652-417e-8474-3e33115aafd3                               \n",
       "fc545f62-a8b2-444f-97b2-76f6655a0827                               \n",
       "fce63567-71ad-4b24-91d9-4acb3d2c8493                               \n",
       "fd06fa16-2d79-42e2-9536-477b54e40191                               \n",
       "fd6cf259-c258-4e44-b4d3-f56ea5d4a4d7                               \n",
       "fe14bd9e-f026-4d86-bfeb-16d7ce6934b5                               \n",
       "fe351c04-3ea1-4fe3-875c-6e4529e21b25                               \n",
       "fe8eb819-2ef1-486f-8723-98769bf2114f                               \n",
       "feb337f9-bcc2-4e5b-9c00-b7088f0f2295                               \n",
       "fec49fd2-4966-4941-b5c4-1e7ea99c39db                               \n",
       "fefd4061-d935-4d3e-aaf2-9d52fe41edbc                               \n",
       "ff114ca3-b96a-4dc2-a5fc-bd91ab74a913                               \n",
       "NaN                                                          NaN   \n",
       "NaN                                                          NaN   \n",
       "NaN                                                          NaN   \n",
       "NaN                                                          NaN   \n",
       "NaN                                                          NaN   \n",
       "NaN                                                          NaN   \n",
       "NaN                                                          NaN   \n",
       "NaN                                                          NaN   \n",
       "NaN                                                          NaN   \n",
       "NaN                                                          NaN   \n",
       "NaN                                                          NaN   \n",
       "NaN                                                          NaN   \n",
       "NaN                                                          NaN   \n",
       "NaN                                                          NaN   \n",
       "NaN                                                          NaN   \n",
       "NaN                                                          NaN   \n",
***REMOVED***
       "                                     transcription score  \\\n",
       "uuid                                                       \n",
       "00a2ffcb-d8ec-4ab9-88ad-4f56be8147bc            []    []   \n",
       "00de7c66-89ba-4e38-a6e3-839ff40a69cc            []    []   \n",
       "015cdc25-1370-4c20-8921-136700f9b444            []    []   \n",
       "01a60f18-6b63-4568-bb6b-d7c28b544eef            []    []   \n",
       "021ed4e9-fa1c-490c-8065-87f6f10b8fdc            []    []   \n",
       "0241a33b-027a-480f-ba28-3f4bd26f9473            []    []   \n",
       "0241a7a6-1696-46fb-a88a-5ccd31530ab4            []    []   \n",
       "02872db5-e290-4e31-a6b5-255dec0df730            []    []   \n",
       "029251f0-7051-4525-8d75-75fd528a0658            []    []   \n",
       "033b3d3f-c65b-43bb-9f1a-9c55235af299            []    []   \n",
       "0346196d-48b6-4100-892f-1d3e36962b7b            []    []   \n",
       "0366e7be-9c71-4dd9-9c7d-f9fe1a2890b0            []    []   \n",
       "0421aeac-bef1-477a-8bc8-68192a78dcb0            []    []   \n",
       "0531da9f-081d-44b7-a820-36fbc07b2f9e            []    []   \n",
       "053a4a12-2061-44cc-ba36-177e66a39f0c            []    []   \n",
       "05547834-c3c8-4274-b266-96c4ecab8808            []    []   \n",
       "05b0df23-ffa6-4d2a-a496-fd94656bf51a            []    []   \n",
       "05f78b3f-0d30-49e7-b7ad-dfb8c506d89d            []    []   \n",
       "0641e8f8-4781-4709-a2d5-f247b02d6eaf            []    []   \n",
       "06b525ec-0e09-44da-be12-1c62ae5c9556            []    []   \n",
       "07109a48-1062-4acc-9847-30962c646632            []    []   \n",
       "0712c110-d5ef-48ad-a747-b564303ae70f            []    []   \n",
       "074a5e75-13d4-4ebc-b10b-0ad91dccf746            []    []   \n",
       "07817f63-e874-4697-a99a-1d74097075bc            []    []   \n",
       "0788e93d-d689-4c0e-9c89-7cde69848e09            []    []   \n",
       "07af0737-f336-4d25-8576-8c577bc087cb            []    []   \n",
       "082caa52-20ce-41ff-82e3-179a7339108f            []    []   \n",
       "084720db-81d2-4f7e-8ed7-74dbe900636a            []    []   \n",
       "084ec36e-5e24-478e-989d-ec7159ad109e            []    []   \n",
       "085e0870-d4f4-439a-819b-fbe66eabac7a            []    []   \n",
       "...                                            ...   ...   \n",
       "fbdc89d6-a5f7-49a5-8390-df9f6a750644            []    []   \n",
       "fbf55270-38df-40c4-92ab-a77d02a8a619            []    []   \n",
       "fc0e8bcc-d652-417e-8474-3e33115aafd3            []    []   \n",
       "fc545f62-a8b2-444f-97b2-76f6655a0827            []    []   \n",
       "fce63567-71ad-4b24-91d9-4acb3d2c8493            []    []   \n",
       "fd06fa16-2d79-42e2-9536-477b54e40191            []    []   \n",
       "fd6cf259-c258-4e44-b4d3-f56ea5d4a4d7            []    []   \n",
       "fe14bd9e-f026-4d86-bfeb-16d7ce6934b5            []    []   \n",
       "fe351c04-3ea1-4fe3-875c-6e4529e21b25            []    []   \n",
       "fe8eb819-2ef1-486f-8723-98769bf2114f            []    []   \n",
       "feb337f9-bcc2-4e5b-9c00-b7088f0f2295            []    []   \n",
       "fec49fd2-4966-4941-b5c4-1e7ea99c39db            []    []   \n",
       "fefd4061-d935-4d3e-aaf2-9d52fe41edbc            []    []   \n",
       "ff114ca3-b96a-4dc2-a5fc-bd91ab74a913            []    []   \n",
       "NaN                                            NaN   NaN   \n",
       "NaN                                            NaN   NaN   \n",
       "NaN                                            NaN   NaN   \n",
       "NaN                                            NaN   NaN   \n",
       "NaN                                            NaN   NaN   \n",
       "NaN                                            NaN   NaN   \n",
       "NaN                                            NaN   NaN   \n",
       "NaN                                            NaN   NaN   \n",
       "NaN                                            NaN   NaN   \n",
       "NaN                                            NaN   NaN   \n",
       "NaN                                            NaN   NaN   \n",
       "NaN                                            NaN   NaN   \n",
       "NaN                                            NaN   NaN   \n",
       "NaN                                            NaN   NaN   \n",
       "NaN                                            NaN   NaN   \n",
       "NaN                                            NaN   NaN   \n",
***REMOVED***
       "                                                                      geometry_original  \\\n",
       "uuid                                                                                      \n",
       "00a2ffcb-d8ec-4ab9-88ad-4f56be8147bc  POLYGON ((2310516.529790816 5035065.076758689,...   \n",
       "00de7c66-89ba-4e38-a6e3-839ff40a69cc  POLYGON ((2310178.051802094 5035344.901521929,...   \n",
       "015cdc25-1370-4c20-8921-136700f9b444  POLYGON ((2310557.973997016 5035222.096331075,...   \n",
       "01a60f18-6b63-4568-bb6b-d7c28b544eef  POLYGON ((2310550.235029765 5034897.874334658,...   \n",
       "021ed4e9-fa1c-490c-8065-87f6f10b8fdc  POLYGON ((2310527.832756144 5035169.756473613,...   \n",
       "0241a33b-027a-480f-ba28-3f4bd26f9473  POLYGON ((2310380.792378371 5035410.78457208, ...   \n",
       "0241a7a6-1696-46fb-a88a-5ccd31530ab4  POLYGON ((2310192.205965883 5035008.256446503,...   \n",
       "02872db5-e290-4e31-a6b5-255dec0df730  POLYGON ((2310607.258998984 5035334.107699184,...   \n",
       "029251f0-7051-4525-8d75-75fd528a0658  POLYGON ((2310709.087515447 5035222.80913069, ...   \n",
       "033b3d3f-c65b-43bb-9f1a-9c55235af299  POLYGON ((2310640.556923868 5035411.395543179,...   \n",
       "0346196d-48b6-4100-892f-1d3e36962b7b  POLYGON ((2310757.863374833 5035040.943400287,...   \n",
       "0366e7be-9c71-4dd9-9c7d-f9fe1a2890b0  POLYGON ((2310321.935495856 5035105.909993791,...   \n",
       "0421aeac-bef1-477a-8bc8-68192a78dcb0  POLYGON ((2310257.681701968 5034940.336826023,...   \n",
       "0531da9f-081d-44b7-a820-36fbc07b2f9e  POLYGON ((2310548.402116469 5035115.685531371,...   \n",
       "053a4a12-2061-44cc-ba36-177e66a39f0c  POLYGON ((2310749.920750549 5035386.753042195,...   \n",
       "05547834-c3c8-4274-b266-96c4ecab8808  POLYGON ((2310585.264039428 5035367.405624066,...   \n",
       "05b0df23-ffa6-4d2a-a496-fd94656bf51a  POLYGON ((2310385.985632711 5034932.801515804,...   \n",
       "05f78b3f-0d30-49e7-b7ad-dfb8c506d89d  POLYGON ((2310661.024455676 5035384.105500767,...   \n",
       "0641e8f8-4781-4709-a2d5-f247b02d6eaf  POLYGON ((2310544.532632843 5035126.581182633,...   \n",
       "06b525ec-0e09-44da-be12-1c62ae5c9556  POLYGON ((2310282.324202952 5034970.172581346,...   \n",
       "07109a48-1062-4acc-9847-30962c646632  POLYGON ((2310399.223339851 5035159.879107515,...   \n",
       "0712c110-d5ef-48ad-a747-b564303ae70f  POLYGON ((2310518.871846694 5034956.018417558,...   \n",
       "074a5e75-13d4-4ebc-b10b-0ad91dccf746  POLYGON ((2310539.033892954 5035315.269423638,...   \n",
       "07817f63-e874-4697-a99a-1d74097075bc  POLYGON ((2310392.299000732 5035172.505843557,...   \n",
       "0788e93d-d689-4c0e-9c89-7cde69848e09  POLYGON ((2310193.937050662 5035001.128450351,...   \n",
       "07af0737-f336-4d25-8576-8c577bc087cb  POLYGON ((2310670.087193642 5035366.387338902,...   \n",
       "082caa52-20ce-41ff-82e3-179a7339108f  POLYGON ((2310502.88476961 5034934.736257616, ...   \n",
       "084720db-81d2-4f7e-8ed7-74dbe900636a  POLYGON ((2310795.743582956 5035213.746392724,...   \n",
       "084ec36e-5e24-478e-989d-ec7159ad109e  POLYGON ((2310183.652370499 5035396.834065325,...   \n",
       "085e0870-d4f4-439a-819b-fbe66eabac7a  POLYGON ((2310407.573278201 5035031.575176773,...   \n",
       "...                                                                                 ...   \n",
       "fbdc89d6-a5f7-49a5-8390-df9f6a750644  POLYGON ((2310811.119688943 5035151.223683616,...   \n",
       "fbf55270-38df-40c4-92ab-a77d02a8a619  POLYGON ((2310619.47842096 5034939.522197891, ...   \n",
       "fc0e8bcc-d652-417e-8474-3e33115aafd3  POLYGON ((2310596.567004756 5035349.17831962, ...   \n",
       "fc545f62-a8b2-444f-97b2-76f6655a0827  POLYGON ((2310557.159368885 5035334.820498799,...   \n",
       "fce63567-71ad-4b24-91d9-4acb3d2c8493  POLYGON ((2310321.731838823 5035053.977450395,...   \n",
       "fd06fa16-2d79-42e2-9536-477b54e40191  POLYGON ((2310536.28452301 5035114.056275108, ...   \n",
       "fd6cf259-c258-4e44-b4d3-f56ea5d4a4d7  POLYGON ((2310404.212937158 5035050.922594901,...   \n",
       "fe14bd9e-f026-4d86-bfeb-16d7ce6934b5  POLYGON ((2310809.18494713 5035141.142660487, ...   \n",
       "fe351c04-3ea1-4fe3-875c-6e4529e21b25  POLYGON ((2310449.526626984 5034897.568849108,...   \n",
       "fe8eb819-2ef1-486f-8723-98769bf2114f  POLYGON ((2310282.222374436 5035001.73942145, ...   \n",
       "feb337f9-bcc2-4e5b-9c00-b7088f0f2295  POLYGON ((2310343.013998764 5035323.415704954,...   \n",
       "fec49fd2-4966-4941-b5c4-1e7ea99c39db  POLYGON ((2310644.22275046 5035108.863020768, ...   \n",
       "fefd4061-d935-4d3e-aaf2-9d52fe41edbc  POLYGON ((2310513.576763839 5034918.545523499,...   \n",
       "ff114ca3-b96a-4dc2-a5fc-bd91ab74a913  POLYGON ((2310544.023490261 5035329.932730009,...   \n",
       "NaN                                                                                 NaN   \n",
       "NaN                                                                                 NaN   \n",
       "NaN                                                                                 NaN   \n",
       "NaN                                                                                 NaN   \n",
       "NaN                                                                                 NaN   \n",
       "NaN                                                                                 NaN   \n",
       "NaN                                                                                 NaN   \n",
       "NaN                                                                                 NaN   \n",
       "NaN                                                                                 NaN   \n",
       "NaN                                                                                 NaN   \n",
       "NaN                                                                                 NaN   \n",
       "NaN                                                                                 NaN   \n",
       "NaN                                                                                 NaN   \n",
       "NaN                                                                                 NaN   \n",
       "NaN                                                                                 NaN   \n",
       "NaN                                                                                 NaN   \n",
***REMOVED***
       "                                     best_transcription_corrected  \\\n",
       "uuid                                                                \n",
       "00a2ffcb-d8ec-4ab9-88ad-4f56be8147bc                         None   \n",
       "00de7c66-89ba-4e38-a6e3-839ff40a69cc                         None   \n",
       "015cdc25-1370-4c20-8921-136700f9b444                         None   \n",
       "01a60f18-6b63-4568-bb6b-d7c28b544eef                         None   \n",
       "021ed4e9-fa1c-490c-8065-87f6f10b8fdc                         None   \n",
       "0241a33b-027a-480f-ba28-3f4bd26f9473                         None   \n",
       "0241a7a6-1696-46fb-a88a-5ccd31530ab4                         None   \n",
       "02872db5-e290-4e31-a6b5-255dec0df730                         None   \n",
       "029251f0-7051-4525-8d75-75fd528a0658                         None   \n",
       "033b3d3f-c65b-43bb-9f1a-9c55235af299                         None   \n",
       "0346196d-48b6-4100-892f-1d3e36962b7b                         None   \n",
       "0366e7be-9c71-4dd9-9c7d-f9fe1a2890b0                         None   \n",
       "0421aeac-bef1-477a-8bc8-68192a78dcb0                         None   \n",
       "0531da9f-081d-44b7-a820-36fbc07b2f9e                         None   \n",
       "053a4a12-2061-44cc-ba36-177e66a39f0c                         None   \n",
       "05547834-c3c8-4274-b266-96c4ecab8808                         None   \n",
       "05b0df23-ffa6-4d2a-a496-fd94656bf51a                         None   \n",
       "05f78b3f-0d30-49e7-b7ad-dfb8c506d89d                         None   \n",
       "0641e8f8-4781-4709-a2d5-f247b02d6eaf                         None   \n",
       "06b525ec-0e09-44da-be12-1c62ae5c9556                         None   \n",
       "07109a48-1062-4acc-9847-30962c646632                         None   \n",
       "0712c110-d5ef-48ad-a747-b564303ae70f                         None   \n",
       "074a5e75-13d4-4ebc-b10b-0ad91dccf746                         None   \n",
       "07817f63-e874-4697-a99a-1d74097075bc                         None   \n",
       "0788e93d-d689-4c0e-9c89-7cde69848e09                         None   \n",
       "07af0737-f336-4d25-8576-8c577bc087cb                         None   \n",
       "082caa52-20ce-41ff-82e3-179a7339108f                         None   \n",
       "084720db-81d2-4f7e-8ed7-74dbe900636a                         None   \n",
       "084ec36e-5e24-478e-989d-ec7159ad109e                         None   \n",
       "085e0870-d4f4-439a-819b-fbe66eabac7a                         None   \n",
       "...                                                           ...   \n",
       "fbdc89d6-a5f7-49a5-8390-df9f6a750644                         None   \n",
       "fbf55270-38df-40c4-92ab-a77d02a8a619                         None   \n",
       "fc0e8bcc-d652-417e-8474-3e33115aafd3                         None   \n",
       "fc545f62-a8b2-444f-97b2-76f6655a0827                         None   \n",
       "fce63567-71ad-4b24-91d9-4acb3d2c8493                         None   \n",
       "fd06fa16-2d79-42e2-9536-477b54e40191                         None   \n",
       "fd6cf259-c258-4e44-b4d3-f56ea5d4a4d7                         None   \n",
       "fe14bd9e-f026-4d86-bfeb-16d7ce6934b5                         None   \n",
       "fe351c04-3ea1-4fe3-875c-6e4529e21b25                         None   \n",
       "fe8eb819-2ef1-486f-8723-98769bf2114f                         None   \n",
       "feb337f9-bcc2-4e5b-9c00-b7088f0f2295                         None   \n",
       "fec49fd2-4966-4941-b5c4-1e7ea99c39db                         None   \n",
       "fefd4061-d935-4d3e-aaf2-9d52fe41edbc                         None   \n",
       "ff114ca3-b96a-4dc2-a5fc-bd91ab74a913                         None   \n",
       "NaN                                                          None   \n",
       "NaN                                                          None   \n",
       "NaN                                                          None   \n",
       "NaN                                                          None   \n",
       "NaN                                                          None   \n",
       "NaN                                                          None   \n",
       "NaN                                                          None   \n",
       "NaN                                                          None   \n",
       "NaN                                                          None   \n",
       "NaN                                                          None   \n",
       "NaN                                                          None   \n",
       "NaN                                                          None   \n",
       "NaN                                                          None   \n",
       "NaN                                                          None   \n",
       "NaN                                                          None   \n",
       "NaN                                                          None   \n",
***REMOVED***
       "                                                                     geometry_corrected  \n",
       "uuid                                                                                     \n",
       "00a2ffcb-d8ec-4ab9-88ad-4f56be8147bc  POLYGON ((2310516.529790816 5035065.076758689,...  \n",
       "00de7c66-89ba-4e38-a6e3-839ff40a69cc  POLYGON ((2310178.051802094 5035344.901521929,...  \n",
       "015cdc25-1370-4c20-8921-136700f9b444  POLYGON ((2310557.973997016 5035222.096331075,...  \n",
       "01a60f18-6b63-4568-bb6b-d7c28b544eef  POLYGON ((2310550.235029765 5034897.874334658,...  \n",
       "021ed4e9-fa1c-490c-8065-87f6f10b8fdc  POLYGON ((2310527.832756144 5035169.756473613,...  \n",
       "0241a33b-027a-480f-ba28-3f4bd26f9473                                               None  \n",
       "0241a7a6-1696-46fb-a88a-5ccd31530ab4  POLYGON ((2310192.205965883 5035008.256446503,...  \n",
       "02872db5-e290-4e31-a6b5-255dec0df730  POLYGON ((2310607.258998984 5035334.107699184,...  \n",
       "029251f0-7051-4525-8d75-75fd528a0658  POLYGON ((2310709.087515447 5035222.80913069, ...  \n",
       "033b3d3f-c65b-43bb-9f1a-9c55235af299  POLYGON ((2310640.556923868 5035411.395543179,...  \n",
       "0346196d-48b6-4100-892f-1d3e36962b7b  POLYGON ((2310757.863374833 5035040.943400287,...  \n",
       "0366e7be-9c71-4dd9-9c7d-f9fe1a2890b0  POLYGON ((2310321.935495856 5035105.909993791,...  \n",
       "0421aeac-bef1-477a-8bc8-68192a78dcb0  POLYGON ((2310257.681701968 5034940.336826023,...  \n",
       "0531da9f-081d-44b7-a820-36fbc07b2f9e  POLYGON ((2310548.402116469 5035115.685531371,...  \n",
       "053a4a12-2061-44cc-ba36-177e66a39f0c  POLYGON ((2310749.920750549 5035386.753042195,...  \n",
       "05547834-c3c8-4274-b266-96c4ecab8808  POLYGON ((2310585.264039428 5035367.405624066,...  \n",
       "05b0df23-ffa6-4d2a-a496-fd94656bf51a  POLYGON ((2310385.985632711 5034932.801515804,...  \n",
       "05f78b3f-0d30-49e7-b7ad-dfb8c506d89d  POLYGON ((2310661.024455676 5035384.105500767,...  \n",
       "0641e8f8-4781-4709-a2d5-f247b02d6eaf  POLYGON ((2310544.532632843 5035126.581182633,...  \n",
       "06b525ec-0e09-44da-be12-1c62ae5c9556  POLYGON ((2310282.324202952 5034970.172581346,...  \n",
       "07109a48-1062-4acc-9847-30962c646632  POLYGON ((2310399.223339851 5035159.879107515,...  \n",
       "0712c110-d5ef-48ad-a747-b564303ae70f  POLYGON ((2310518.871846694 5034956.018417558,...  \n",
       "074a5e75-13d4-4ebc-b10b-0ad91dccf746  POLYGON ((2310539.033892954 5035315.269423638,...  \n",
       "07817f63-e874-4697-a99a-1d74097075bc  POLYGON ((2310392.299000732 5035172.505843557,...  \n",
       "0788e93d-d689-4c0e-9c89-7cde69848e09  POLYGON ((2310193.937050662 5035001.128450351,...  \n",
       "07af0737-f336-4d25-8576-8c577bc087cb  POLYGON ((2310670.087193642 5035366.387338902,...  \n",
       "082caa52-20ce-41ff-82e3-179a7339108f  POLYGON ((2310502.88476961 5034934.736257616, ...  \n",
       "084720db-81d2-4f7e-8ed7-74dbe900636a  POLYGON ((2310795.743582956 5035213.746392724,...  \n",
       "084ec36e-5e24-478e-989d-ec7159ad109e  POLYGON ((2310183.652370499 5035396.834065325,...  \n",
       "085e0870-d4f4-439a-819b-fbe66eabac7a  POLYGON ((2310407.573278201 5035031.575176773,...  \n",
       "...                                                                                 ...  \n",
       "fbdc89d6-a5f7-49a5-8390-df9f6a750644  POLYGON ((2310811.119688943 5035151.223683616,...  \n",
       "fbf55270-38df-40c4-92ab-a77d02a8a619  POLYGON ((2310619.47842096 5034939.522197891, ...  \n",
       "fc0e8bcc-d652-417e-8474-3e33115aafd3  POLYGON ((2310596.567004756 5035349.17831962, ...  \n",
       "fc545f62-a8b2-444f-97b2-76f6655a0827  POLYGON ((2310557.159368885 5035334.820498799,...  \n",
       "fce63567-71ad-4b24-91d9-4acb3d2c8493  POLYGON ((2310321.731838823 5035053.977450395,...  \n",
       "fd06fa16-2d79-42e2-9536-477b54e40191  POLYGON ((2310536.28452301 5035114.056275108, ...  \n",
       "fd6cf259-c258-4e44-b4d3-f56ea5d4a4d7  POLYGON ((2310404.212937158 5035050.922594901,...  \n",
       "fe14bd9e-f026-4d86-bfeb-16d7ce6934b5  POLYGON ((2310809.18494713 5035141.142660487, ...  \n",
       "fe351c04-3ea1-4fe3-875c-6e4529e21b25  POLYGON ((2310449.526626984 5034897.568849108,...  \n",
       "fe8eb819-2ef1-486f-8723-98769bf2114f  POLYGON ((2310282.222374436 5035001.73942145, ...  \n",
       "feb337f9-bcc2-4e5b-9c00-b7088f0f2295  POLYGON ((2310343.013998764 5035323.415704954,...  \n",
       "fec49fd2-4966-4941-b5c4-1e7ea99c39db  POLYGON ((2310644.22275046 5035108.863020768, ...  \n",
       "fefd4061-d935-4d3e-aaf2-9d52fe41edbc  POLYGON ((2310513.576763839 5034918.545523499,...  \n",
       "ff114ca3-b96a-4dc2-a5fc-bd91ab74a913  POLYGON ((2310544.023490261 5035329.932730009,...  \n",
       "NaN                                   POLYGON ((2310210.509631718 5035255.394937427,...  \n",
       "NaN                                   POLYGON ((2310302.629661195 5035167.642776569,...  \n",
       "NaN                                   POLYGON ((2310722.047947152 5034908.376174027,...  \n",
       "NaN                                   POLYGON ((2310492.772642629 5035012.06265564, ...  \n",
       "NaN                                   POLYGON ((2310567.488395544 5035168.213959373,...  \n",
       "NaN                                   POLYGON ((2310579.054847682 5035274.796253896,...  \n",
       "NaN                                   POLYGON ((2310513.368823198 5035286.698695925,...  \n",
       "NaN                                   POLYGON ((2310517.745091581 5035282.213230827,...  \n",
       "NaN                                   POLYGON ((2310586.37102765 5035237.282982105, ...  \n",
       "NaN                                   POLYGON ((2310572.662639933 5035227.169686262,...  \n",
       "NaN                                   POLYGON ((2310512.995034441 5035217.883765537,...  \n",
       "NaN                                   POLYGON ((2310486.575729001 5035235.764727756,...  \n",
       "NaN                                   POLYGON ((2310490.072123844 5035271.129764145,...  \n",
       "NaN                                   POLYGON ((2310781.329164256 5035011.70146648, ...  \n",
       "NaN                                   POLYGON ((2310619.545829899 5035379.534803844,...  \n",
       "NaN                                   POLYGON ((2310588.017378118 5035277.322477887,...  \n",
***REMOVED***
       "[760 rows x 6 columns]"
   ***REMOVED***
   ***REMOVED***
     "execution_count": 29,
     "metadata": ***REMOVED******REMOVED***,
***REMOVED***
***REMOVED***
***REMOVED***,
***REMOVED***
    "df_merged[df_merged.best_transcription_corrected.astype(str) == 'None']"
***REMOVED***
***REMOVED***
  ***REMOVED***
***REMOVED***
***REMOVED***
   "metadata": ***REMOVED***
***REMOVED***
 ***REMOVED***
***REMOVED***
***REMOVED***]
***REMOVED***
  ***REMOVED***
***REMOVED***
***REMOVED***
   "metadata": ***REMOVED***
***REMOVED***
 ***REMOVED***
***REMOVED***
***REMOVED***]
***REMOVED***
  ***REMOVED***
***REMOVED***
   "execution_count": 44,
   "metadata": ***REMOVED***
***REMOVED***
 ***REMOVED***
***REMOVED***
***REMOVED***
    "import numpy as np"
***REMOVED***
***REMOVED***
  ***REMOVED***
***REMOVED***
   "execution_count": 47,
   "metadata": ***REMOVED***
***REMOVED***
 ***REMOVED***
***REMOVED***
***REMOVED***
    "l = np.array([[1,2], [2,3], [4,5], [6,7]])"
***REMOVED***
***REMOVED***
  ***REMOVED***
***REMOVED***
   "execution_count": 48,
   "metadata": ***REMOVED***
    "collapsed": false
 ***REMOVED***
***REMOVED***
    ***REMOVED***
     "data": ***REMOVED***
***REMOVED***
       "array([[[1, 2],\n",
       "        [2, 3],\n",
       "        [4, 5],\n",
       "        [6, 7]]])"
   ***REMOVED***
   ***REMOVED***
     "execution_count": 48,
     "metadata": ***REMOVED******REMOVED***,
***REMOVED***
***REMOVED***
***REMOVED***,
***REMOVED***
    "l.reshape(1, -1 ,2)"
***REMOVED***
***REMOVED***
  ***REMOVED***
***REMOVED***
***REMOVED***
   "metadata": ***REMOVED***
***REMOVED***
 ***REMOVED***
***REMOVED***
***REMOVED***]
***REMOVED***
***REMOVED***
 "metadata": ***REMOVED***
  "anaconda-cloud": ***REMOVED******REMOVED***,
  "kernelspec": ***REMOVED***
   "display_name": "Python [conda root]",
***REMOVED***
   "name": "conda-root-py"
***REMOVED***
  "language_info": ***REMOVED***
   "codemirror_mode": ***REMOVED***
***REMOVED***
    "version": 3
 ***REMOVED***
***REMOVED***
***REMOVED***
***REMOVED***
***REMOVED***
***REMOVED***
   "version": "3.5.5"
***REMOVED***
***REMOVED***
***REMOVED***
 "nbformat_minor": 2
***REMOVED***
